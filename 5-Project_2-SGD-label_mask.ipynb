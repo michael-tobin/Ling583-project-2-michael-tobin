{
 "cells": [
  {
   "cell_type": "markdown",
   "id": "portable-carpet",
   "metadata": {},
   "source": [
    "# Project 2: What kind of wine is this?\n",
    "## SGD route 5/5\n",
    "In this notebook I wanted to try 3 different ways of combining the wine variants. In doing so, I tried a few different configurations of the cells, initially doing each step for all 3 before moving onto the next step. This wound up making it very difficult to keep track of what was going on, so now it is structured such that we go through all of the steps for each combination before moving onto the next.\n",
    "\n",
    "**TL/DR:** Combining Merlot and Riesling had the most drastic improvement in terms of percentage improvement over baseline, but combining Merlot with Cabernet Sauvignon resulted in the highest F1 score, though still fairly low."
   ]
  },
  {
   "cell_type": "markdown",
   "id": "variable-computer",
   "metadata": {},
   "source": [
    "## Imports"
   ]
  },
  {
   "cell_type": "code",
   "execution_count": 29,
   "id": "patient-weather",
   "metadata": {},
   "outputs": [],
   "source": [
    "import numpy as np\n",
    "import pandas as pd\n",
    "from cytoolz import *\n",
    "from tqdm.auto import tqdm\n",
    "\n",
    "tqdm.pandas()\n",
    "import multiprocessing as mp"
   ]
  },
  {
   "cell_type": "code",
   "execution_count": 32,
   "id": "meaning-donor",
   "metadata": {},
   "outputs": [],
   "source": [
    "from sklearn.feature_extraction.text import CountVectorizer, TfidfTransformer\n",
    "from sklearn.linear_model import SGDClassifier\n",
    "from sklearn.metrics import classification_report, f1_score\n",
    "from sklearn.pipeline import make_pipeline"
   ]
  },
  {
   "cell_type": "code",
   "execution_count": 50,
   "id": "involved-praise",
   "metadata": {},
   "outputs": [],
   "source": [
    "import mlflow\n",
    "from dask_ml.model_selection import RandomizedSearchCV\n",
    "from logger import log_search\n",
    "from scipy.stats.distributions import loguniform, randint, uniform\n",
    "from warnings import simplefilter\n",
    "simplefilter(action=\"ignore\", category=FutureWarning)"
   ]
  },
  {
   "cell_type": "code",
   "execution_count": 51,
   "id": "flush-medicaid",
   "metadata": {},
   "outputs": [
    {
     "data": {
      "text/html": [
       "<table style=\"border: 2px solid white;\">\n",
       "<tr>\n",
       "<td style=\"vertical-align: top; border: 0px solid white\">\n",
       "<h3 style=\"text-align: left;\">Client</h3>\n",
       "<ul style=\"text-align: left; list-style: none; margin: 0; padding: 0;\">\n",
       "  <li><b>Scheduler: </b>tcp://127.0.0.1:38747</li>\n",
       "  <li><b>Dashboard: </b><a href='http://127.0.0.1:8787/status' target='_blank'>http://127.0.0.1:8787/status</a></li>\n",
       "</ul>\n",
       "</td>\n",
       "<td style=\"vertical-align: top; border: 0px solid white\">\n",
       "<h3 style=\"text-align: left;\">Cluster</h3>\n",
       "<ul style=\"text-align: left; list-style:none; margin: 0; padding: 0;\">\n",
       "  <li><b>Workers: </b>4</li>\n",
       "  <li><b>Cores: </b>4</li>\n",
       "  <li><b>Memory: </b>16.62 GB</li>\n",
       "</ul>\n",
       "</td>\n",
       "</tr>\n",
       "</table>"
      ],
      "text/plain": [
       "<Client: 'tcp://127.0.0.1:38747' processes=4 threads=4, memory=16.62 GB>"
      ]
     },
     "execution_count": 51,
     "metadata": {},
     "output_type": "execute_result"
    }
   ],
   "source": [
    "from dask.distributed import Client\n",
    "\n",
    "client = Client(\"tcp://127.0.0.1:38747\")\n",
    "client"
   ]
  },
  {
   "cell_type": "markdown",
   "id": "egyptian-convenience",
   "metadata": {},
   "source": [
    "---\n",
    "\n",
    "## Load data"
   ]
  },
  {
   "cell_type": "code",
   "execution_count": 30,
   "id": "accepting-frost",
   "metadata": {},
   "outputs": [],
   "source": [
    "train = pd.read_parquet(\"s3://ling583/wine-train.parquet\", storage_options={\"anon\": True})\n",
    "test = pd.read_parquet(\"s3://ling583/wine-test.parquet\", storage_options={\"anon\": True})"
   ]
  },
  {
   "cell_type": "code",
   "execution_count": 31,
   "id": "encouraging-florist",
   "metadata": {},
   "outputs": [],
   "source": [
    "import spacy\n",
    "\n",
    "nlp = spacy.load(\"en_core_web_sm\", \n",
    "                 exclude=[\"tagger\", \"parser\", \"ner\", \"lemmatizer\", \"attribute_ruler\"],)\n",
    "\n",
    "def tokenize(text):\n",
    "    doc = nlp.tokenizer(text)\n",
    "    return [t.norm_ for t in doc if not (t.is_space or t.is_punct or t.like_num)]"
   ]
  },
  {
   "cell_type": "markdown",
   "id": "sunset-standing",
   "metadata": {},
   "source": [
    "---\n",
    "\n",
    "# Combine variants\n",
    "There are three combinations being tested below. \n",
    "\n",
    "**Merlot/Cabernet** - Represent the highest error point in the confusion matrix.\n",
    "\n",
    "**Merlot/Reisling** - Suggested in the assignment prompt, I'm curious.\n",
    "\n",
    "**Syrah/Cabernet** - Represent the second highest error point in the confusion matrix"
   ]
  },
  {
   "cell_type": "code",
   "execution_count": 34,
   "id": "searching-southwest",
   "metadata": {},
   "outputs": [
    {
     "data": {
      "text/plain": [
       "Pinot Noir            38471\n",
       "Cabernet Sauvignon    30234\n",
       "Chardonnay            19443\n",
       "Syrah                 13704\n",
       "Riesling               9683\n",
       "Zinfandel              8327\n",
       "Merlot                 5522\n",
       "Sauvignon Blanc        5113\n",
       "Name: wine_variant, dtype: int64"
      ]
     },
     "execution_count": 34,
     "metadata": {},
     "output_type": "execute_result"
    }
   ],
   "source": [
    "# Original variants\n",
    "train[\"wine_variant\"].value_counts()"
   ]
  },
  {
   "cell_type": "markdown",
   "id": "sustained-prospect",
   "metadata": {},
   "source": [
    "## Combine Merlot and Cabernet Sauvignon"
   ]
  },
  {
   "cell_type": "code",
   "execution_count": 33,
   "id": "other-harassment",
   "metadata": {},
   "outputs": [],
   "source": [
    "train_cabmer = train.copy()\n",
    "test_cabmer = test.copy()"
   ]
  },
  {
   "cell_type": "code",
   "execution_count": 35,
   "id": "unavailable-front",
   "metadata": {},
   "outputs": [],
   "source": [
    "m = train_cabmer['wine_variant'].isin(['Merlot', 'Cabernet Sauvignon'])\n",
    "train_cabmer['wine_variant'] = train_cabmer['wine_variant'].mask(m, 'Merlot/Cabernet')\n",
    "\n",
    "n = test_cabmer['wine_variant'].isin(['Merlot', 'Cabernet Sauvignon'])\n",
    "test_cabmer['wine_variant'] = test_cabmer['wine_variant'].mask(n, 'Merlot/Cabernet')"
   ]
  },
  {
   "cell_type": "code",
   "execution_count": 36,
   "id": "consistent-cambridge",
   "metadata": {},
   "outputs": [
    {
     "data": {
      "text/plain": [
       "Pinot Noir         38471\n",
       "Merlot/Cabernet    35756\n",
       "Chardonnay         19443\n",
       "Syrah              13704\n",
       "Riesling            9683\n",
       "Zinfandel           8327\n",
       "Sauvignon Blanc     5113\n",
       "Name: wine_variant, dtype: int64"
      ]
     },
     "execution_count": 36,
     "metadata": {},
     "output_type": "execute_result"
    }
   ],
   "source": [
    "train_cabmer[\"wine_variant\"].value_counts()"
   ]
  },
  {
   "cell_type": "code",
   "execution_count": 37,
   "id": "bulgarian-crest",
   "metadata": {},
   "outputs": [
    {
     "data": {
      "application/vnd.jupyter.widget-view+json": {
       "model_id": "6701c786e0ad48a09279803798b48542",
       "version_major": 2,
       "version_minor": 0
      },
      "text/plain": [
       "  0%|          | 0/130497 [00:00<?, ?it/s]"
      ]
     },
     "metadata": {},
     "output_type": "display_data"
    },
    {
     "data": {
      "application/vnd.jupyter.widget-view+json": {
       "model_id": "3d3ca0c27baa45068696387f2e060d1e",
       "version_major": 2,
       "version_minor": 0
      },
      "text/plain": [
       "  0%|          | 0/32625 [00:00<?, ?it/s]"
      ]
     },
     "metadata": {},
     "output_type": "display_data"
    }
   ],
   "source": [
    "# Merlot/Cabernet combination\n",
    "with mp.Pool() as p:\n",
    "    train_cabmer[\"tokens\"] = pd.Series(p.imap(tokenize, tqdm(train_cabmer[\"review_text\"]), chunksize=100))\n",
    "    test_cabmer[\"tokens\"] = pd.Series(p.imap(tokenize, tqdm(test_cabmer[\"review_text\"]), chunksize=100))"
   ]
  },
  {
   "cell_type": "markdown",
   "id": "based-lucas",
   "metadata": {},
   "source": [
    "### Merlot/Cabernet Baseline"
   ]
  },
  {
   "cell_type": "code",
   "execution_count": 38,
   "id": "extra-arrangement",
   "metadata": {},
   "outputs": [
    {
     "name": "stdout",
     "output_type": "stream",
     "text": [
      "                 precision    recall  f1-score   support\n",
      "\n",
      "     Chardonnay       0.82      0.85      0.84      4861\n",
      "Merlot/Cabernet       0.75      0.82      0.79      8939\n",
      "     Pinot Noir       0.77      0.86      0.81      9618\n",
      "       Riesling       0.82      0.77      0.80      2421\n",
      "Sauvignon Blanc       0.85      0.65      0.73      1278\n",
      "          Syrah       0.79      0.50      0.62      3426\n",
      "      Zinfandel       0.69      0.57      0.63      2082\n",
      "\n",
      "       accuracy                           0.78     32625\n",
      "      macro avg       0.79      0.72      0.74     32625\n",
      "   weighted avg       0.78      0.78      0.77     32625\n",
      "\n"
     ]
    }
   ],
   "source": [
    "baseline_mc = make_pipeline(CountVectorizer(analyzer=identity), SGDClassifier())\n",
    "baseline_mc.fit(train_cabmer[\"tokens\"], train_cabmer[\"wine_variant\"])\n",
    "base_mc_predicted = baseline_mc.predict(test_cabmer[\"tokens\"])\n",
    "print(classification_report(test_cabmer[\"wine_variant\"], base_mc_predicted))"
   ]
  },
  {
   "cell_type": "markdown",
   "id": "separate-brown",
   "metadata": {},
   "source": [
    "### Merlot/Cabernet Hyperparameter search"
   ]
  },
  {
   "cell_type": "code",
   "execution_count": 53,
   "id": "cooked-boards",
   "metadata": {},
   "outputs": [
    {
     "name": "stdout",
     "output_type": "stream",
     "text": [
      "INFO: 'Project_2_Merlot/Cabernet' does not exist. Creating a new experiment\n"
     ]
    }
   ],
   "source": [
    "mlflow.set_experiment(\"Project_2_Merlot/Cabernet\")\n",
    "sgd = make_pipeline(\n",
    "    CountVectorizer(analyzer=identity), TfidfTransformer(), SGDClassifier()\n",
    ")\n",
    "# Skeleton classifier"
   ]
  },
  {
   "cell_type": "code",
   "execution_count": 55,
   "id": "quantitative-anchor",
   "metadata": {},
   "outputs": [
    {
     "name": "stdout",
     "output_type": "stream",
     "text": [
      "CPU times: user 10.9 s, sys: 1.38 s, total: 12.2 s\n",
      "Wall time: 6min 18s\n"
     ]
    }
   ],
   "source": [
    "%%time\n",
    "\n",
    "search = RandomizedSearchCV(\n",
    "    sgd,\n",
    "    {\n",
    "        \"countvectorizer__min_df\": randint(1, 20),\n",
    "        \"countvectorizer__max_df\": uniform(0.5, 0.5),\n",
    "        \"tfidftransformer__use_idf\": [True, False],\n",
    "        \"sgdclassifier__alpha\": loguniform(1e-6, 1e-2),\n",
    "    },\n",
    "    n_iter=50,\n",
    "    scoring=\"f1_macro\",\n",
    ")\n",
    "search.fit(train_cabmer[\"tokens\"], train_cabmer[\"wine_variant\"])\n",
    "log_search(search)"
   ]
  },
  {
   "cell_type": "markdown",
   "id": "developing-review",
   "metadata": {},
   "source": [
    "### Merlot/Cabernet Compare to baseline"
   ]
  },
  {
   "cell_type": "code",
   "execution_count": 57,
   "id": "lightweight-assurance",
   "metadata": {},
   "outputs": [
    {
     "name": "stdout",
     "output_type": "stream",
     "text": [
      "                 precision    recall  f1-score   support\n",
      "\n",
      "     Chardonnay       0.85      0.84      0.84      4861\n",
      "Merlot/Cabernet       0.73      0.86      0.79      8939\n",
      "     Pinot Noir       0.79      0.85      0.82      9618\n",
      "       Riesling       0.81      0.80      0.80      2421\n",
      "Sauvignon Blanc       0.84      0.67      0.74      1278\n",
      "          Syrah       0.78      0.52      0.62      3426\n",
      "      Zinfandel       0.86      0.52      0.65      2082\n",
      "\n",
      "       accuracy                           0.78     32625\n",
      "      macro avg       0.81      0.72      0.75     32625\n",
      "   weighted avg       0.79      0.78      0.78     32625\n",
      "\n"
     ]
    }
   ],
   "source": [
    "sgd_mc = make_pipeline(\n",
    "    CountVectorizer(analyzer=identity, min_df=3, max_df=0.78472),\n",
    "    TfidfTransformer(use_idf=True),\n",
    "    SGDClassifier(alpha=8.32e-6),\n",
    ")\n",
    "sgd_mc.fit(train_cabmer[\"tokens\"], train_cabmer[\"wine_variant\"])\n",
    "predicted_mc = sgd_mc.predict(test_cabmer[\"tokens\"])\n",
    "print(classification_report(test_cabmer[\"wine_variant\"], predicted_mc))"
   ]
  },
  {
   "cell_type": "code",
   "execution_count": 59,
   "id": "following-lafayette",
   "metadata": {},
   "outputs": [],
   "source": [
    "base_mc_f1 = f1_score(test_cabmer[\"wine_variant\"], base_mc_predicted, average=\"macro\")\n",
    "sgd_mc_f1 = f1_score(test_cabmer[\"wine_variant\"], predicted_mc, average=\"macro\")"
   ]
  },
  {
   "cell_type": "code",
   "execution_count": 60,
   "id": "interpreted-order",
   "metadata": {},
   "outputs": [
    {
     "name": "stdout",
     "output_type": "stream",
     "text": [
      "Base F1 score MC: 0.7446297670452787\n",
      "SGD F1 score MC:  0.7528789038185238\n",
      "Difference:    0.008249136773245125\n"
     ]
    }
   ],
   "source": [
    "print(f\"Base F1 score MC: {base_mc_f1}\")\n",
    "print(f\"SGD F1 score MC:  {sgd_mc_f1}\")\n",
    "print(f\"Difference:       {sgd_mc_f1 - base_mc_f1}\") "
   ]
  },
  {
   "cell_type": "code",
   "execution_count": 71,
   "id": "representative-latter",
   "metadata": {},
   "outputs": [
    {
     "data": {
      "text/plain": [
       "0.03230265594309791"
      ]
     },
     "execution_count": 71,
     "metadata": {},
     "output_type": "execute_result"
    }
   ],
   "source": [
    "mc_improvement = (sgd_mc_f1 - base_mc_f1) / (1 - base_mc_f1)\n",
    "# Percentage error reduction; how much we imroved over the base.\n",
    "mc_improvement"
   ]
  },
  {
   "cell_type": "markdown",
   "id": "charged-express",
   "metadata": {},
   "source": [
    "##  Combine Merlot and Riesling "
   ]
  },
  {
   "cell_type": "code",
   "execution_count": 39,
   "id": "miniature-crawford",
   "metadata": {},
   "outputs": [],
   "source": [
    "train_merrie = train.copy()\n",
    "test_merrie = test.copy()"
   ]
  },
  {
   "cell_type": "code",
   "execution_count": 40,
   "id": "fresh-economics",
   "metadata": {},
   "outputs": [],
   "source": [
    "m = train_merrie['wine_variant'].isin(['Merlot', 'Riesling'])\n",
    "train_merrie['wine_variant'] = train_merrie['wine_variant'].mask(m, 'Merlot/Riesling')\n",
    "\n",
    "n = test_merrie['wine_variant'].isin(['Merlot', 'Riesling'])\n",
    "test_merrie['wine_variant'] = test_merrie['wine_variant'].mask(n, 'Merlot/Riesling')"
   ]
  },
  {
   "cell_type": "code",
   "execution_count": 41,
   "id": "after-cable",
   "metadata": {},
   "outputs": [
    {
     "data": {
      "text/plain": [
       "Pinot Noir            9618\n",
       "Cabernet Sauvignon    7558\n",
       "Chardonnay            4861\n",
       "Merlot/Riesling       3802\n",
       "Syrah                 3426\n",
       "Zinfandel             2082\n",
       "Sauvignon Blanc       1278\n",
       "Name: wine_variant, dtype: int64"
      ]
     },
     "execution_count": 41,
     "metadata": {},
     "output_type": "execute_result"
    }
   ],
   "source": [
    "test_merrie[\"wine_variant\"].value_counts()"
   ]
  },
  {
   "cell_type": "code",
   "execution_count": 42,
   "id": "dramatic-passenger",
   "metadata": {},
   "outputs": [
    {
     "data": {
      "application/vnd.jupyter.widget-view+json": {
       "model_id": "56496a9a6af6478298b4c65a90006130",
       "version_major": 2,
       "version_minor": 0
      },
      "text/plain": [
       "  0%|          | 0/130497 [00:00<?, ?it/s]"
      ]
     },
     "metadata": {},
     "output_type": "display_data"
    },
    {
     "data": {
      "application/vnd.jupyter.widget-view+json": {
       "model_id": "a526380424534fee8d31e8fe36b74064",
       "version_major": 2,
       "version_minor": 0
      },
      "text/plain": [
       "  0%|          | 0/32625 [00:00<?, ?it/s]"
      ]
     },
     "metadata": {},
     "output_type": "display_data"
    }
   ],
   "source": [
    "# Merlot/Riesling combination\n",
    "with mp.Pool() as p:\n",
    "    train_merrie[\"tokens\"] = pd.Series(p.imap(tokenize, tqdm(train_merrie[\"review_text\"]), chunksize=100))\n",
    "    test_merrie[\"tokens\"] = pd.Series(p.imap(tokenize, tqdm(test_merrie[\"review_text\"]), chunksize=100))"
   ]
  },
  {
   "cell_type": "markdown",
   "id": "advisory-madonna",
   "metadata": {},
   "source": [
    "### Merlot/Riesling Baseline"
   ]
  },
  {
   "cell_type": "code",
   "execution_count": 52,
   "id": "whole-consumer",
   "metadata": {},
   "outputs": [
    {
     "name": "stdout",
     "output_type": "stream",
     "text": [
      "                    precision    recall  f1-score   support\n",
      "\n",
      "Cabernet Sauvignon       0.75      0.75      0.75      7558\n",
      "        Chardonnay       0.72      0.89      0.80      4861\n",
      "   Merlot/Riesling       0.80      0.59      0.68      3802\n",
      "        Pinot Noir       0.79      0.84      0.81      9618\n",
      "   Sauvignon Blanc       0.86      0.64      0.73      1278\n",
      "             Syrah       0.60      0.63      0.61      3426\n",
      "         Zinfandel       0.82      0.52      0.64      2082\n",
      "\n",
      "          accuracy                           0.75     32625\n",
      "         macro avg       0.76      0.70      0.72     32625\n",
      "      weighted avg       0.75      0.75      0.74     32625\n",
      "\n"
     ]
    }
   ],
   "source": [
    "baseline_mr = make_pipeline(CountVectorizer(analyzer=identity), SGDClassifier())\n",
    "baseline_mr.fit(train_merrie[\"tokens\"], train_merrie[\"wine_variant\"])\n",
    "base_mr_predicted = baseline_mr.predict(test_merrie[\"tokens\"])\n",
    "print(classification_report(test_merrie[\"wine_variant\"], base_mr_predicted))"
   ]
  },
  {
   "cell_type": "markdown",
   "id": "phantom-candle",
   "metadata": {},
   "source": [
    "### Merlot/Riesling Hyperparameter search"
   ]
  },
  {
   "cell_type": "code",
   "execution_count": 63,
   "id": "destroyed-agency",
   "metadata": {},
   "outputs": [
    {
     "name": "stdout",
     "output_type": "stream",
     "text": [
      "INFO: 'Project_2_Merlot/Riesling' does not exist. Creating a new experiment\n"
     ]
    }
   ],
   "source": [
    "mlflow.set_experiment(\"Project_2_Merlot/Riesling\")\n",
    "sgd = make_pipeline(\n",
    "    CountVectorizer(analyzer=identity), TfidfTransformer(), SGDClassifier()\n",
    ")\n",
    "# Skeleton classifier"
   ]
  },
  {
   "cell_type": "code",
   "execution_count": 64,
   "id": "hairy-wings",
   "metadata": {},
   "outputs": [
    {
     "name": "stdout",
     "output_type": "stream",
     "text": [
      "CPU times: user 10.9 s, sys: 1.42 s, total: 12.4 s\n",
      "Wall time: 6min 7s\n"
     ]
    }
   ],
   "source": [
    "%%time\n",
    "\n",
    "search = RandomizedSearchCV(\n",
    "    sgd,\n",
    "    {\n",
    "        \"countvectorizer__min_df\": randint(1, 20),\n",
    "        \"countvectorizer__max_df\": uniform(0.5, 0.5),\n",
    "        \"tfidftransformer__use_idf\": [True, False],\n",
    "        \"sgdclassifier__alpha\": loguniform(1e-6, 1e-2),\n",
    "    },\n",
    "    n_iter=50,\n",
    "    scoring=\"f1_macro\",\n",
    ")\n",
    "search.fit(train_merrie[\"tokens\"], train_merrie[\"wine_variant\"])\n",
    "log_search(search)"
   ]
  },
  {
   "cell_type": "markdown",
   "id": "premier-lying",
   "metadata": {},
   "source": [
    "### Merlot/Riesling Compare to baseline"
   ]
  },
  {
   "cell_type": "code",
   "execution_count": 76,
   "id": "characteristic-official",
   "metadata": {},
   "outputs": [
    {
     "name": "stdout",
     "output_type": "stream",
     "text": [
      "                    precision    recall  f1-score   support\n",
      "\n",
      "Cabernet Sauvignon       0.69      0.82      0.75      7558\n",
      "        Chardonnay       0.79      0.88      0.83      4861\n",
      "   Merlot/Riesling       0.81      0.59      0.68      3802\n",
      "        Pinot Noir       0.78      0.86      0.82      9618\n",
      "   Sauvignon Blanc       0.84      0.66      0.74      1278\n",
      "             Syrah       0.74      0.55      0.63      3426\n",
      "         Zinfandel       0.84      0.52      0.64      2082\n",
      "\n",
      "          accuracy                           0.76     32625\n",
      "         macro avg       0.78      0.70      0.73     32625\n",
      "      weighted avg       0.77      0.76      0.75     32625\n",
      "\n"
     ]
    }
   ],
   "source": [
    "sgd_mr = make_pipeline(\n",
    "    CountVectorizer(analyzer=identity, min_df=2, max_df=0.7862),\n",
    "    TfidfTransformer(use_idf=True),\n",
    "    SGDClassifier(alpha=1.68e-5),\n",
    ")\n",
    "sgd_mr.fit(train_merrie[\"tokens\"], train_merrie[\"wine_variant\"])\n",
    "predicted_mr = sgd_mr.predict(test_merrie[\"tokens\"])\n",
    "print(classification_report(test_merrie[\"wine_variant\"], predicted_mr))"
   ]
  },
  {
   "cell_type": "code",
   "execution_count": 77,
   "id": "abandoned-missile",
   "metadata": {},
   "outputs": [],
   "source": [
    "base_mr_f1 = f1_score(test_merrie[\"wine_variant\"], base_mr_predicted, average=\"macro\")\n",
    "sgd_mr_f1 = f1_score(test_merrie[\"wine_variant\"], predicted_mr, average=\"macro\")"
   ]
  },
  {
   "cell_type": "code",
   "execution_count": 78,
   "id": "mounted-chorus",
   "metadata": {},
   "outputs": [
    {
     "name": "stdout",
     "output_type": "stream",
     "text": [
      "Base F1 score MR: 0.717510943778003\n",
      "SGD F1 score MR:  0.7281148654199932\n",
      "Difference:       0.0106039216419902\n"
     ]
    }
   ],
   "source": [
    "print(f\"Base F1 score MR: {base_mr_f1}\")\n",
    "print(f\"SGD F1 score MR:  {sgd_mr_f1}\")\n",
    "print(f\"Difference:       {sgd_mr_f1 - base_mr_f1}\") "
   ]
  },
  {
   "cell_type": "code",
   "execution_count": 79,
   "id": "institutional-behalf",
   "metadata": {},
   "outputs": [
    {
     "data": {
      "text/plain": [
       "0.03753745997741234"
      ]
     },
     "execution_count": 79,
     "metadata": {},
     "output_type": "execute_result"
    }
   ],
   "source": [
    "mr_improvement = (sgd_mr_f1 - base_mr_f1) / (1 - base_mr_f1)\n",
    "# Percentage error reduction; how much we imroved over the base.\n",
    "mr_improvement"
   ]
  },
  {
   "cell_type": "markdown",
   "id": "taken-dining",
   "metadata": {},
   "source": [
    "## Combine Syrah and Cabernet Sauvignon"
   ]
  },
  {
   "cell_type": "code",
   "execution_count": 44,
   "id": "organic-bride",
   "metadata": {},
   "outputs": [],
   "source": [
    "train_syrcab = train.copy()\n",
    "test_syrcab = test.copy()"
   ]
  },
  {
   "cell_type": "code",
   "execution_count": 45,
   "id": "several-point",
   "metadata": {},
   "outputs": [],
   "source": [
    "m = train_syrcab['wine_variant'].isin(['Syrah', 'Cabernet Sauvignon'])\n",
    "train_syrcab['wine_variant'] = train_syrcab['wine_variant'].mask(m, 'Syrah/Cabernet')\n",
    "\n",
    "n = test_syrcab['wine_variant'].isin(['Syrah', 'Cabernet Sauvignon'])\n",
    "test_syrcab['wine_variant'] = test_syrcab['wine_variant'].mask(n, 'Syrah/Cabernet')"
   ]
  },
  {
   "cell_type": "code",
   "execution_count": 46,
   "id": "directed-mustang",
   "metadata": {},
   "outputs": [
    {
     "data": {
      "text/plain": [
       "Syrah/Cabernet     43938\n",
       "Pinot Noir         38471\n",
       "Chardonnay         19443\n",
       "Riesling            9683\n",
       "Zinfandel           8327\n",
       "Merlot              5522\n",
       "Sauvignon Blanc     5113\n",
       "Name: wine_variant, dtype: int64"
      ]
     },
     "execution_count": 46,
     "metadata": {},
     "output_type": "execute_result"
    }
   ],
   "source": [
    "train_syrcab[\"wine_variant\"].value_counts()"
   ]
  },
  {
   "cell_type": "code",
   "execution_count": 47,
   "id": "median-continent",
   "metadata": {},
   "outputs": [
    {
     "data": {
      "application/vnd.jupyter.widget-view+json": {
       "model_id": "70937ac16fa64ceea76cd638dd3a3b32",
       "version_major": 2,
       "version_minor": 0
      },
      "text/plain": [
       "  0%|          | 0/130497 [00:00<?, ?it/s]"
      ]
     },
     "metadata": {},
     "output_type": "display_data"
    },
    {
     "data": {
      "application/vnd.jupyter.widget-view+json": {
       "model_id": "5e4779d785b641a895e26c6f57784806",
       "version_major": 2,
       "version_minor": 0
      },
      "text/plain": [
       "  0%|          | 0/32625 [00:00<?, ?it/s]"
      ]
     },
     "metadata": {},
     "output_type": "display_data"
    }
   ],
   "source": [
    "# Syrah/Cabernet combination\n",
    "with mp.Pool() as p:\n",
    "    train_syrcab[\"tokens\"] = pd.Series(p.imap(tokenize, tqdm(train_syrcab[\"review_text\"]), chunksize=100))\n",
    "    test_syrcab[\"tokens\"] = pd.Series(p.imap(tokenize, tqdm(test_syrcab[\"review_text\"]), chunksize=100))"
   ]
  },
  {
   "cell_type": "markdown",
   "id": "forty-laugh",
   "metadata": {},
   "source": [
    "### Syrah/Cabernet Baseline"
   ]
  },
  {
   "cell_type": "code",
   "execution_count": 48,
   "id": "pending-proxy",
   "metadata": {},
   "outputs": [
    {
     "name": "stdout",
     "output_type": "stream",
     "text": [
      "                 precision    recall  f1-score   support\n",
      "\n",
      "     Chardonnay       0.83      0.84      0.84      4861\n",
      "         Merlot       0.79      0.35      0.48      1381\n",
      "     Pinot Noir       0.80      0.83      0.82      9618\n",
      "       Riesling       0.80      0.79      0.80      2421\n",
      "Sauvignon Blanc       0.88      0.64      0.74      1278\n",
      " Syrah/Cabernet       0.76      0.87      0.81     10984\n",
      "      Zinfandel       0.86      0.52      0.65      2082\n",
      "\n",
      "       accuracy                           0.79     32625\n",
      "      macro avg       0.82      0.69      0.73     32625\n",
      "   weighted avg       0.80      0.79      0.79     32625\n",
      "\n"
     ]
    }
   ],
   "source": [
    "baseline_sc = make_pipeline(CountVectorizer(analyzer=identity), SGDClassifier())\n",
    "baseline_sc.fit(train_syrcab[\"tokens\"], train_syrcab[\"wine_variant\"])\n",
    "base_sc_predicted = baseline_sc.predict(test_syrcab[\"tokens\"])\n",
    "print(classification_report(test_syrcab[\"wine_variant\"], base_sc_predicted))"
   ]
  },
  {
   "cell_type": "markdown",
   "id": "digital-webster",
   "metadata": {},
   "source": [
    "### Syrah/Cabernet Hyperparameter search"
   ]
  },
  {
   "cell_type": "code",
   "execution_count": 73,
   "id": "correct-hayes",
   "metadata": {},
   "outputs": [
    {
     "name": "stdout",
     "output_type": "stream",
     "text": [
      "INFO: 'Project_2_Syrah/Cabernet' does not exist. Creating a new experiment\n"
     ]
    }
   ],
   "source": [
    "mlflow.set_experiment(\"Project_2_Syrah/Cabernet\")\n",
    "sgd = make_pipeline(\n",
    "    CountVectorizer(analyzer=identity), TfidfTransformer(), SGDClassifier()\n",
    ")\n",
    "# Skeleton classifier"
   ]
  },
  {
   "cell_type": "code",
   "execution_count": 74,
   "id": "elementary-match",
   "metadata": {},
   "outputs": [
    {
     "name": "stdout",
     "output_type": "stream",
     "text": [
      "CPU times: user 10.8 s, sys: 1.52 s, total: 12.3 s\n",
      "Wall time: 6min 12s\n"
     ]
    }
   ],
   "source": [
    "%%time\n",
    "\n",
    "search = RandomizedSearchCV(\n",
    "    sgd,\n",
    "    {\n",
    "        \"countvectorizer__min_df\": randint(1, 20),\n",
    "        \"countvectorizer__max_df\": uniform(0.5, 0.5),\n",
    "        \"tfidftransformer__use_idf\": [True, False],\n",
    "        \"sgdclassifier__alpha\": loguniform(1e-6, 1e-2),\n",
    "    },\n",
    "    n_iter=50,\n",
    "    scoring=\"f1_macro\",\n",
    ")\n",
    "search.fit(train_syrcab[\"tokens\"], train_syrcab[\"wine_variant\"])\n",
    "log_search(search)"
   ]
  },
  {
   "cell_type": "markdown",
   "id": "official-colors",
   "metadata": {},
   "source": [
    "### Syrah/Cabernet Compare to baseline"
   ]
  },
  {
   "cell_type": "code",
   "execution_count": 80,
   "id": "growing-graph",
   "metadata": {},
   "outputs": [
    {
     "name": "stdout",
     "output_type": "stream",
     "text": [
      "                 precision    recall  f1-score   support\n",
      "\n",
      "     Chardonnay       0.84      0.85      0.84      4861\n",
      "         Merlot       0.87      0.33      0.48      1381\n",
      "     Pinot Noir       0.81      0.83      0.82      9618\n",
      "       Riesling       0.81      0.79      0.80      2421\n",
      "Sauvignon Blanc       0.86      0.66      0.74      1278\n",
      " Syrah/Cabernet       0.75      0.89      0.81     10984\n",
      "      Zinfandel       0.90      0.50      0.64      2082\n",
      "\n",
      "       accuracy                           0.80     32625\n",
      "      macro avg       0.84      0.69      0.73     32625\n",
      "   weighted avg       0.81      0.80      0.79     32625\n",
      "\n"
     ]
    }
   ],
   "source": [
    "sgd_sc = make_pipeline(\n",
    "    CountVectorizer(analyzer=identity, min_df=3, max_df=0.8699),\n",
    "    TfidfTransformer(use_idf=True),\n",
    "    SGDClassifier(alpha=1.011e-5),\n",
    ")\n",
    "sgd_sc.fit(train_syrcab[\"tokens\"], train_syrcab[\"wine_variant\"])\n",
    "predicted_sc = sgd_sc.predict(test_syrcab[\"tokens\"])\n",
    "print(classification_report(test_syrcab[\"wine_variant\"], predicted_sc))"
   ]
  },
  {
   "cell_type": "code",
   "execution_count": 81,
   "id": "illegal-resort",
   "metadata": {},
   "outputs": [],
   "source": [
    "base_sc_f1 = f1_score(test_syrcab[\"wine_variant\"], base_sc_predicted, average=\"macro\")\n",
    "sgd_sc_f1 = f1_score(test_syrcab[\"wine_variant\"], predicted_sc, average=\"macro\")"
   ]
  },
  {
   "cell_type": "code",
   "execution_count": 82,
   "id": "sporting-injection",
   "metadata": {},
   "outputs": [
    {
     "name": "stdout",
     "output_type": "stream",
     "text": [
      "Base F1 score SC: 0.7323657986702568\n",
      "SGD F1 score SC:  0.7346136619153828\n",
      "Difference:       0.002247863245126047\n"
     ]
    }
   ],
   "source": [
    "print(f\"Base F1 score SC: {base_sc_f1}\")\n",
    "print(f\"SGD F1 score SC:  {sgd_sc_f1}\")\n",
    "print(f\"Difference:       {sgd_sc_f1 - base_sc_f1}\") "
   ]
  },
  {
   "cell_type": "code",
   "execution_count": 103,
   "id": "therapeutic-helen",
   "metadata": {},
   "outputs": [
    {
     "data": {
      "text/plain": [
       "0.00839901340694693"
      ]
     },
     "execution_count": 103,
     "metadata": {},
     "output_type": "execute_result"
    }
   ],
   "source": [
    "sc_improvement = (sgd_sc_f1 - base_sc_f1) / (1 - base_sc_f1)\n",
    "# Percentage error reduction; how much we imroved over the base.\n",
    "sc_improvement"
   ]
  },
  {
   "cell_type": "markdown",
   "id": "choice-acrobat",
   "metadata": {},
   "source": [
    "---\n",
    "\n",
    "## Bring it all together"
   ]
  },
  {
   "cell_type": "code",
   "execution_count": 104,
   "id": "sudden-mouse",
   "metadata": {},
   "outputs": [
    {
     "name": "stdout",
     "output_type": "stream",
     "text": [
      "Combining Merlot and Cabernet Sauvignon netted us a 3.230% improvement, with a Macro Average F1 score of 0.753.\n",
      "Combining Merlot and Riesling netted us a 3.754% improvement, with a Macro Average F1 score of 0.728.\n",
      "Combining Syrah and Cabernet Sauvignon netted us a 0.840% improvement, with a Macro Average F1 score of 0.735.\n"
     ]
    }
   ],
   "source": [
    "print(f\"Combining Merlot and Cabernet Sauvignon netted us a {mc_improvement*100:.3f}% improvement, with a Macro Average F1 score of {sgd_mc_f1:.3f}.\")\n",
    "print(f\"Combining Merlot and Riesling netted us a {mr_improvement*100:.3f}% improvement, with a Macro Average F1 score of {sgd_mr_f1:.3f}.\")\n",
    "print(f\"Combining Syrah and Cabernet Sauvignon netted us a {sc_improvement*100:.3f}% improvement, with a Macro Average F1 score of {sgd_sc_f1:.3f}.\")"
   ]
  },
  {
   "cell_type": "markdown",
   "id": "floral-burlington",
   "metadata": {},
   "source": [
    "As we can see above, combining Merlot and Riesling had the most drastic improvement in terms of percentage better than the baseline, but combining Merlot with Cabernet Sauvignon resulted in the highest F1 score, though still fairly low."
   ]
  },
  {
   "cell_type": "code",
   "execution_count": null,
   "id": "downtown-production",
   "metadata": {},
   "outputs": [],
   "source": []
  }
 ],
 "metadata": {
  "kernelspec": {
   "display_name": "Python 3",
   "language": "python",
   "name": "python3"
  },
  "language_info": {
   "codemirror_mode": {
    "name": "ipython",
    "version": 3
   },
   "file_extension": ".py",
   "mimetype": "text/x-python",
   "name": "python",
   "nbconvert_exporter": "python",
   "pygments_lexer": "ipython3",
   "version": "3.8.6"
  }
 },
 "nbformat": 4,
 "nbformat_minor": 5
}
